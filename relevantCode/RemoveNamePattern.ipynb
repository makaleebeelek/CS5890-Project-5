{
 "cells": [
  {
   "cell_type": "code",
   "execution_count": 1,
   "id": "167bd1ca",
   "metadata": {},
   "outputs": [],
   "source": [
    "import re"
   ]
  },
  {
   "cell_type": "code",
   "execution_count": 2,
   "id": "91ad7fe8",
   "metadata": {},
   "outputs": [],
   "source": [
    "REMOVE_PRIVATE_INFO = re.compile('(\\[\\*\\*.+\\*\\*\\])')"
   ]
  },
  {
   "cell_type": "code",
   "execution_count": 3,
   "id": "e2ade1fc",
   "metadata": {},
   "outputs": [],
   "source": [
    "# run this on the column of text before you put it into the doc = nlp(columnText)\n",
    "def remove_name_pattern(text):\n",
    "    REMOVE_PRIVATE_INFO.sub('', str(text))"
   ]
  }
 ],
 "metadata": {
  "kernelspec": {
   "display_name": "Python 3",
   "language": "python",
   "name": "python3"
  },
  "language_info": {
   "codemirror_mode": {
    "name": "ipython",
    "version": 3
   },
   "file_extension": ".py",
   "mimetype": "text/x-python",
   "name": "python",
   "nbconvert_exporter": "python",
   "pygments_lexer": "ipython3",
   "version": "3.8.1"
  }
 },
 "nbformat": 4,
 "nbformat_minor": 5
}
