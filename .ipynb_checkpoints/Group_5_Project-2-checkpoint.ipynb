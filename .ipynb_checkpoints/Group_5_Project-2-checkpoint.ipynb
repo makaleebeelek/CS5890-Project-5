{
 "cells": [
  {
   "cell_type": "markdown",
   "id": "b3a331f3-e44b-4fc5-8a01-ff34cd87e051",
   "metadata": {},
   "source": [
    "## CS NLP Project 5"
   ]
  },
  {
   "cell_type": "code",
   "execution_count": 3,
   "id": "d58aa42a-062c-46da-a1d2-ddb2355c7965",
   "metadata": {},
   "outputs": [],
   "source": [
    "import re\n",
    "import json\n",
    "import nltk\n",
    "from nltk import word_tokenize\n",
    "from nltk.tokenize import sent_tokenize\n",
    "from nltk.stem import WordNetLemmatizer\n",
    "from nltk.stem.porter import PorterStemmer\n",
    "from nltk import pos_tag\n",
    "import seaborn as sns\n",
    "\n",
    "import pandas as pd\n",
    "\n",
    "from sklearn.decomposition import TruncatedSVD,randomized_svd\n",
    "import numpy as np\n",
    "import matplotlib as mp\n",
    "import matplotlib.pyplot as plt\n",
    "\n",
    "from pyspark import SparkContext\n",
    "from nltk.util import ngrams\n",
    "\n",
    "from nltk import pos_tag\n",
    "import nlu\n",
    "\n",
    "from nltk.corpus import stopwords\n",
    "\n",
    "from sklearn.model_selection import train_test_split\n",
    "from sklearn.feature_extraction.text import CountVectorizer,TfidfVectorizer\n",
    "from gensim.models import word2vec\n",
    "from gensim.models.doc2vec import Doc2Vec, TaggedDocument"
   ]
  },
  {
   "cell_type": "code",
   "execution_count": 5,
   "id": "d657d68c-f327-4b19-8b2f-7dd5efec0eef",
   "metadata": {},
   "outputs": [],
   "source": [
    "notes = pd.read_csv(r'NOTEEVENTS.csv', chunksize = 1000)"
   ]
  },
  {
   "cell_type": "code",
   "execution_count": 6,
   "id": "def40c50-fd16-4384-9e98-b4c3993b5a7a",
   "metadata": {
    "tags": []
   },
   "outputs": [],
   "source": [
    "df2 = pd.concat([chunk for chunk in notes])"
   ]
  },
  {
   "cell_type": "code",
   "execution_count": 7,
   "id": "4b7b870c-6cd0-4ec4-80b3-6eea20f2181d",
   "metadata": {},
   "outputs": [
    {
     "data": {
      "text/plain": [
       "(2083180, 11)"
      ]
     },
     "execution_count": 7,
     "metadata": {},
     "output_type": "execute_result"
    }
   ],
   "source": [
    "df2.shape"
   ]
  },
  {
   "cell_type": "code",
   "execution_count": 8,
   "id": "86201a86-ac83-435c-8788-b9d3d095fdf4",
   "metadata": {},
   "outputs": [
    {
     "data": {
      "text/plain": [
       "pandas.core.frame.DataFrame"
      ]
     },
     "execution_count": 8,
     "metadata": {},
     "output_type": "execute_result"
    }
   ],
   "source": [
    "type(df2)"
   ]
  },
  {
   "cell_type": "code",
   "execution_count": 9,
   "id": "058c3fff-465b-488c-9a10-254c033836ec",
   "metadata": {},
   "outputs": [
    {
     "data": {
      "text/html": [
       "<div>\n",
       "<style scoped>\n",
       "    .dataframe tbody tr th:only-of-type {\n",
       "        vertical-align: middle;\n",
       "    }\n",
       "\n",
       "    .dataframe tbody tr th {\n",
       "        vertical-align: top;\n",
       "    }\n",
       "\n",
       "    .dataframe thead th {\n",
       "        text-align: right;\n",
       "    }\n",
       "</style>\n",
       "<table border=\"1\" class=\"dataframe\">\n",
       "  <thead>\n",
       "    <tr style=\"text-align: right;\">\n",
       "      <th></th>\n",
       "      <th>ROW_ID</th>\n",
       "      <th>SUBJECT_ID</th>\n",
       "      <th>HADM_ID</th>\n",
       "      <th>CHARTDATE</th>\n",
       "      <th>CHARTTIME</th>\n",
       "      <th>STORETIME</th>\n",
       "      <th>CATEGORY</th>\n",
       "      <th>DESCRIPTION</th>\n",
       "      <th>CGID</th>\n",
       "      <th>ISERROR</th>\n",
       "      <th>TEXT</th>\n",
       "    </tr>\n",
       "  </thead>\n",
       "  <tbody>\n",
       "    <tr>\n",
       "      <th>0</th>\n",
       "      <td>174</td>\n",
       "      <td>22532</td>\n",
       "      <td>167853.0</td>\n",
       "      <td>2151-08-04</td>\n",
       "      <td>NaN</td>\n",
       "      <td>NaN</td>\n",
       "      <td>Discharge summary</td>\n",
       "      <td>Report</td>\n",
       "      <td>NaN</td>\n",
       "      <td>NaN</td>\n",
       "      <td>Admission Date:  [**2151-7-16**]       Dischar...</td>\n",
       "    </tr>\n",
       "    <tr>\n",
       "      <th>1</th>\n",
       "      <td>175</td>\n",
       "      <td>13702</td>\n",
       "      <td>107527.0</td>\n",
       "      <td>2118-06-14</td>\n",
       "      <td>NaN</td>\n",
       "      <td>NaN</td>\n",
       "      <td>Discharge summary</td>\n",
       "      <td>Report</td>\n",
       "      <td>NaN</td>\n",
       "      <td>NaN</td>\n",
       "      <td>Admission Date:  [**2118-6-2**]       Discharg...</td>\n",
       "    </tr>\n",
       "    <tr>\n",
       "      <th>2</th>\n",
       "      <td>176</td>\n",
       "      <td>13702</td>\n",
       "      <td>167118.0</td>\n",
       "      <td>2119-05-25</td>\n",
       "      <td>NaN</td>\n",
       "      <td>NaN</td>\n",
       "      <td>Discharge summary</td>\n",
       "      <td>Report</td>\n",
       "      <td>NaN</td>\n",
       "      <td>NaN</td>\n",
       "      <td>Admission Date:  [**2119-5-4**]              D...</td>\n",
       "    </tr>\n",
       "    <tr>\n",
       "      <th>3</th>\n",
       "      <td>177</td>\n",
       "      <td>13702</td>\n",
       "      <td>196489.0</td>\n",
       "      <td>2124-08-18</td>\n",
       "      <td>NaN</td>\n",
       "      <td>NaN</td>\n",
       "      <td>Discharge summary</td>\n",
       "      <td>Report</td>\n",
       "      <td>NaN</td>\n",
       "      <td>NaN</td>\n",
       "      <td>Admission Date:  [**2124-7-21**]              ...</td>\n",
       "    </tr>\n",
       "    <tr>\n",
       "      <th>4</th>\n",
       "      <td>178</td>\n",
       "      <td>26880</td>\n",
       "      <td>135453.0</td>\n",
       "      <td>2162-03-25</td>\n",
       "      <td>NaN</td>\n",
       "      <td>NaN</td>\n",
       "      <td>Discharge summary</td>\n",
       "      <td>Report</td>\n",
       "      <td>NaN</td>\n",
       "      <td>NaN</td>\n",
       "      <td>Admission Date:  [**2162-3-3**]              D...</td>\n",
       "    </tr>\n",
       "  </tbody>\n",
       "</table>\n",
       "</div>"
      ],
      "text/plain": [
       "   ROW_ID  SUBJECT_ID   HADM_ID   CHARTDATE CHARTTIME STORETIME  \\\n",
       "0     174       22532  167853.0  2151-08-04       NaN       NaN   \n",
       "1     175       13702  107527.0  2118-06-14       NaN       NaN   \n",
       "2     176       13702  167118.0  2119-05-25       NaN       NaN   \n",
       "3     177       13702  196489.0  2124-08-18       NaN       NaN   \n",
       "4     178       26880  135453.0  2162-03-25       NaN       NaN   \n",
       "\n",
       "            CATEGORY DESCRIPTION  CGID  ISERROR  \\\n",
       "0  Discharge summary      Report   NaN      NaN   \n",
       "1  Discharge summary      Report   NaN      NaN   \n",
       "2  Discharge summary      Report   NaN      NaN   \n",
       "3  Discharge summary      Report   NaN      NaN   \n",
       "4  Discharge summary      Report   NaN      NaN   \n",
       "\n",
       "                                                TEXT  \n",
       "0  Admission Date:  [**2151-7-16**]       Dischar...  \n",
       "1  Admission Date:  [**2118-6-2**]       Discharg...  \n",
       "2  Admission Date:  [**2119-5-4**]              D...  \n",
       "3  Admission Date:  [**2124-7-21**]              ...  \n",
       "4  Admission Date:  [**2162-3-3**]              D...  "
      ]
     },
     "execution_count": 9,
     "metadata": {},
     "output_type": "execute_result"
    }
   ],
   "source": [
    "df2.head()"
   ]
  },
  {
   "cell_type": "code",
   "execution_count": 10,
   "id": "128fbea8-c19e-4384-87b2-c9b7e1653435",
   "metadata": {},
   "outputs": [],
   "source": [
    "df3 = df2.filter(items=['TEXT'])"
   ]
  },
  {
   "cell_type": "code",
   "execution_count": 11,
   "id": "58053f77-f1a8-4040-87d8-430d734794bd",
   "metadata": {},
   "outputs": [
    {
     "data": {
      "text/html": [
       "<div>\n",
       "<style scoped>\n",
       "    .dataframe tbody tr th:only-of-type {\n",
       "        vertical-align: middle;\n",
       "    }\n",
       "\n",
       "    .dataframe tbody tr th {\n",
       "        vertical-align: top;\n",
       "    }\n",
       "\n",
       "    .dataframe thead th {\n",
       "        text-align: right;\n",
       "    }\n",
       "</style>\n",
       "<table border=\"1\" class=\"dataframe\">\n",
       "  <thead>\n",
       "    <tr style=\"text-align: right;\">\n",
       "      <th></th>\n",
       "      <th>TEXT</th>\n",
       "    </tr>\n",
       "  </thead>\n",
       "  <tbody>\n",
       "    <tr>\n",
       "      <th>0</th>\n",
       "      <td>Admission Date:  [**2151-7-16**]       Dischar...</td>\n",
       "    </tr>\n",
       "    <tr>\n",
       "      <th>1</th>\n",
       "      <td>Admission Date:  [**2118-6-2**]       Discharg...</td>\n",
       "    </tr>\n",
       "    <tr>\n",
       "      <th>2</th>\n",
       "      <td>Admission Date:  [**2119-5-4**]              D...</td>\n",
       "    </tr>\n",
       "    <tr>\n",
       "      <th>3</th>\n",
       "      <td>Admission Date:  [**2124-7-21**]              ...</td>\n",
       "    </tr>\n",
       "    <tr>\n",
       "      <th>4</th>\n",
       "      <td>Admission Date:  [**2162-3-3**]              D...</td>\n",
       "    </tr>\n",
       "  </tbody>\n",
       "</table>\n",
       "</div>"
      ],
      "text/plain": [
       "                                                TEXT\n",
       "0  Admission Date:  [**2151-7-16**]       Dischar...\n",
       "1  Admission Date:  [**2118-6-2**]       Discharg...\n",
       "2  Admission Date:  [**2119-5-4**]              D...\n",
       "3  Admission Date:  [**2124-7-21**]              ...\n",
       "4  Admission Date:  [**2162-3-3**]              D..."
      ]
     },
     "execution_count": 11,
     "metadata": {},
     "output_type": "execute_result"
    }
   ],
   "source": [
    "df3.head()"
   ]
  },
  {
   "cell_type": "code",
   "execution_count": 12,
   "id": "685ba009-24b3-4eee-9b16-2c8bdc3f7ccb",
   "metadata": {},
   "outputs": [],
   "source": [
    "sample = df3.sample(frac=0.01,random_state=1234)"
   ]
  },
  {
   "cell_type": "code",
   "execution_count": 13,
   "id": "2b8eef8e-08f4-4b4c-a8dd-b00a44c8b770",
   "metadata": {},
   "outputs": [
    {
     "data": {
      "text/plain": [
       "(20832, 1)"
      ]
     },
     "execution_count": 13,
     "metadata": {},
     "output_type": "execute_result"
    }
   ],
   "source": [
    "sample.shape"
   ]
  },
  {
   "cell_type": "code",
   "execution_count": 14,
   "id": "e79d71c5-fbf0-4687-80f1-ca33e1a9439c",
   "metadata": {},
   "outputs": [],
   "source": [
    "stop_words = set(stopwords.words('english'))"
   ]
  },
  {
   "cell_type": "code",
   "execution_count": 15,
   "id": "0927b49c-dbd9-404e-b4aa-99648f916e40",
   "metadata": {},
   "outputs": [],
   "source": [
    "def preprocess(s):\n",
    "    s = s.lower()\n",
    "    re_punc = re.compile(r'[^a-z]+')\n",
    "    s = re.sub(re_punc,' ',s)\n",
    "    t = word_tokenize(s)\n",
    "    lemmas = [WordNetLemmatizer().lemmatize(x) for x in t]\n",
    "    lemmas = [x for x in lemmas if x not in stop_words and len(x)>2]\n",
    "    return lemmas"
   ]
  },
  {
   "cell_type": "code",
   "execution_count": 16,
   "id": "ec8d401e-73ba-46e2-9bed-86b8fe3a2e8f",
   "metadata": {},
   "outputs": [],
   "source": [
    "sample['TEXT_preprocess'] = sample['TEXT'].apply(preprocess)"
   ]
  },
  {
   "cell_type": "code",
   "execution_count": 17,
   "id": "89d4550f-780f-4a86-ab72-eb425b0a4feb",
   "metadata": {},
   "outputs": [],
   "source": [
    "def get_lemma(l):\n",
    "        \n",
    "    text = ' '.join(l)\n",
    "    \n",
    "    return text"
   ]
  },
  {
   "cell_type": "code",
   "execution_count": 18,
   "id": "5010db33-faff-4b16-a988-3fd2196d7e93",
   "metadata": {},
   "outputs": [],
   "source": [
    "sample['LEMMA_TEXT'] = sample.TEXT_preprocess.apply(get_lemma)"
   ]
  },
  {
   "cell_type": "code",
   "execution_count": 19,
   "id": "8a6bd755-2acd-4156-91cc-b3928a0b7cc7",
   "metadata": {},
   "outputs": [
    {
     "data": {
      "text/html": [
       "<div>\n",
       "<style scoped>\n",
       "    .dataframe tbody tr th:only-of-type {\n",
       "        vertical-align: middle;\n",
       "    }\n",
       "\n",
       "    .dataframe tbody tr th {\n",
       "        vertical-align: top;\n",
       "    }\n",
       "\n",
       "    .dataframe thead th {\n",
       "        text-align: right;\n",
       "    }\n",
       "</style>\n",
       "<table border=\"1\" class=\"dataframe\">\n",
       "  <thead>\n",
       "    <tr style=\"text-align: right;\">\n",
       "      <th></th>\n",
       "      <th>TEXT</th>\n",
       "      <th>TEXT_preprocess</th>\n",
       "      <th>LEMMA_TEXT</th>\n",
       "    </tr>\n",
       "  </thead>\n",
       "  <tbody>\n",
       "    <tr>\n",
       "      <th>1339940</th>\n",
       "      <td>Resp Care\\n\\nPt remains intubated and on SIMV/...</td>\n",
       "      <td>[resp, care, remains, intubated, simv, psv, de...</td>\n",
       "      <td>resp care remains intubated simv psv decreased...</td>\n",
       "    </tr>\n",
       "    <tr>\n",
       "      <th>934705</th>\n",
       "      <td>[**2131-12-23**] 4:38 PM\\n CHEST (PORTABLE AP)...</td>\n",
       "      <td>[chest, portable, clip, clip, number, radiolog...</td>\n",
       "      <td>chest portable clip clip number radiology reas...</td>\n",
       "    </tr>\n",
       "    <tr>\n",
       "      <th>1644386</th>\n",
       "      <td>Please see CareVue for details.\\n\\nNeuro:  Sta...</td>\n",
       "      <td>[please, see, carevue, detail, neuro, status, ...</td>\n",
       "      <td>please see carevue detail neuro status unchang...</td>\n",
       "    </tr>\n",
       "    <tr>\n",
       "      <th>1104915</th>\n",
       "      <td>[**2181-1-17**] 2:12 PM\\n CHEST PORT. LINE PLA...</td>\n",
       "      <td>[chest, port, line, placement, clip, clip, num...</td>\n",
       "      <td>chest port line placement clip clip number rad...</td>\n",
       "    </tr>\n",
       "    <tr>\n",
       "      <th>1002383</th>\n",
       "      <td>[**2118-3-23**] 6:13 PM\\n CHEST PORT. LINE PLA...</td>\n",
       "      <td>[chest, port, line, placement, clip, clip, num...</td>\n",
       "      <td>chest port line placement clip clip number rad...</td>\n",
       "    </tr>\n",
       "  </tbody>\n",
       "</table>\n",
       "</div>"
      ],
      "text/plain": [
       "                                                      TEXT  \\\n",
       "1339940  Resp Care\\n\\nPt remains intubated and on SIMV/...   \n",
       "934705   [**2131-12-23**] 4:38 PM\\n CHEST (PORTABLE AP)...   \n",
       "1644386  Please see CareVue for details.\\n\\nNeuro:  Sta...   \n",
       "1104915  [**2181-1-17**] 2:12 PM\\n CHEST PORT. LINE PLA...   \n",
       "1002383  [**2118-3-23**] 6:13 PM\\n CHEST PORT. LINE PLA...   \n",
       "\n",
       "                                           TEXT_preprocess  \\\n",
       "1339940  [resp, care, remains, intubated, simv, psv, de...   \n",
       "934705   [chest, portable, clip, clip, number, radiolog...   \n",
       "1644386  [please, see, carevue, detail, neuro, status, ...   \n",
       "1104915  [chest, port, line, placement, clip, clip, num...   \n",
       "1002383  [chest, port, line, placement, clip, clip, num...   \n",
       "\n",
       "                                                LEMMA_TEXT  \n",
       "1339940  resp care remains intubated simv psv decreased...  \n",
       "934705   chest portable clip clip number radiology reas...  \n",
       "1644386  please see carevue detail neuro status unchang...  \n",
       "1104915  chest port line placement clip clip number rad...  \n",
       "1002383  chest port line placement clip clip number rad...  "
      ]
     },
     "execution_count": 19,
     "metadata": {},
     "output_type": "execute_result"
    }
   ],
   "source": [
    "sample.head()"
   ]
  },
  {
   "cell_type": "code",
   "execution_count": 20,
   "id": "65b73288-cb8a-4904-8e75-efc558a85425",
   "metadata": {},
   "outputs": [],
   "source": [
    "lines = []\n",
    "with open('sample.txt', 'w') as f:\n",
    "    f.writelines(sample.LEMMA_TEXT + \"\\n\" + \"\\n\")"
   ]
  },
  {
   "cell_type": "code",
   "execution_count": 21,
   "id": "1505ac49-e815-4c60-8ec0-22131a25c8a4",
   "metadata": {},
   "outputs": [],
   "source": [
    "def get_count(c):\n",
    "    token = word_tokenize(c)\n",
    "    gram = ngrams(token, 1)\n",
    "    fd = nltk.FreqDist(gram)\n",
    "    for k, v in fd.items():\n",
    "        if v == 2:\n",
    "            count = k[0]\n",
    "            return count"
   ]
  },
  {
   "cell_type": "code",
   "execution_count": 22,
   "id": "486c6b22-a591-4a24-ad36-fef3b519b2cf",
   "metadata": {},
   "outputs": [
    {
     "data": {
      "text/plain": [
       "'TEXT'"
      ]
     },
     "execution_count": 22,
     "metadata": {},
     "output_type": "execute_result"
    }
   ],
   "source": [
    "sample.columns[0]"
   ]
  },
  {
   "cell_type": "code",
   "execution_count": 24,
   "id": "6bbc7403-41f6-412c-a2f3-24a910a65dfa",
   "metadata": {},
   "outputs": [
    {
     "data": {
      "text/plain": [
       "<AxesSubplot:title={'center':'Top topics for TEXT'}>"
      ]
     },
     "execution_count": 24,
     "metadata": {},
     "output_type": "execute_result"
    },
    {
     "data": {
      "image/png": "[encoded data removed]",
      "text/plain": [
       "<Figure size 864x576 with 1 Axes>"
      ]
     },
     "metadata": {
      "needs_background": "light"
     },
     "output_type": "display_data"
    }
   ],
   "source": [
    "fileObject = open(\"sample.txt\", \"r\")\n",
    "# survey.columns[i] = fileObject.read()\n",
    "docs = fileObject.read()\n",
    "w = word_tokenize(docs.lower())\n",
    "set(w) #deduplicate the words\n",
    "len(set(w))\n",
    "MW = open(\"sample.txt\", encoding = 'utf-8')\n",
    "text = MW.read().lower()\n",
    "get_count('sample.txt')\n",
    "trans_split = text.split(get_count(docs))\n",
    "len(trans_split)\n",
    "trans_split[0]\n",
    "type(trans_split)\n",
    "mw = pd.DataFrame(trans_split, columns=[get_count(docs)])\n",
    "mw.shape\n",
    "mw.head()\n",
    "stop_words = set(stopwords.words('english'))\n",
    "\n",
    "# To improve this model, we could use POS tagging and filter out parts of speech we aren't interested in\n",
    "\n",
    "def preprocess(s):\n",
    "    s = s.lower()\n",
    "    re_punc = re.compile(r'[^a-z]+')\n",
    "    s = re.sub(re_punc,' ',s)\n",
    "    t = nltk.word_tokenize(s)\n",
    "    lemmas = [WordNetLemmatizer().lemmatize(x) for x in t]\n",
    "    lemmas = [x for x in lemmas if x not in stop_words]\n",
    "    return lemmas\n",
    "\n",
    "mw['lemma']=mw[get_count(docs)].apply(preprocess)\n",
    "mw.head()\n",
    "countv = CountVectorizer(tokenizer=preprocess)\n",
    "mwcounts = countv.fit_transform(mw[get_count(docs)])\n",
    "type(mwcounts)\n",
    "mwcounts.shape\n",
    "terms = countv.get_feature_names()\n",
    "len(terms)\n",
    "terms[:8]\n",
    "mw_df = pd.DataFrame(mwcounts.toarray(), columns=terms)\n",
    "mw_df.head()\n",
    "\n",
    "lsa_svd = TruncatedSVD(n_components=2, random_state=42)\n",
    "lsa_mw = lsa_svd.fit_transform(mw_df)\n",
    "Sigma = lsa_svd.singular_values_\n",
    "V_T = lsa_svd.components_.T\n",
    "np.diag(Sigma)\n",
    "lsa_mw.shape\n",
    "\n",
    "document_topic_matrix = pd.DataFrame(lsa_mw,\n",
    "                                 columns=[f'Latent_concept_{r}' for r in range(2)])\n",
    "\n",
    "document_topic_matrix\n",
    "V_T.shape\n",
    "term_topic_matrix = pd.DataFrame(data=V_T, \n",
    "                             index = terms, \n",
    "                             columns = [f'Latent_concept_{r}' for r in range(0,V_T.shape[1])])\n",
    "\n",
    "\n",
    "\n",
    "# To improve this model, we could use POS tagging in the preprocess function and filter out parts of \n",
    "# speech we aren't interested in\n",
    "\n",
    "data = term_topic_matrix[f'Latent_concept_0']\n",
    "data = data.sort_values(ascending=False)\n",
    "top_30 = data[:30]\n",
    "fig, ax = plt.subplots(figsize=(12,8))\n",
    "plt.title('Top topics for TEXT')\n",
    "# plt.title('Top terms along the axis of Latent concept 0')\n",
    "sns.barplot(ax=ax,x= top_30.values, y=top_30.index)"
   ]
  },
  {
   "cell_type": "code",
   "execution_count": null,
   "id": "97eb5153-989a-4e0c-a4f1-635d6b6fb569",
   "metadata": {},
   "outputs": [],
   "source": []
  },
  {
   "cell_type": "code",
   "execution_count": 25,
   "id": "47246b74-a69e-4f45-86dd-baf141a364e1",
   "metadata": {},
   "outputs": [],
   "source": [
    "sample_sentiment = sample.copy()"
   ]
  },
  {
   "cell_type": "code",
   "execution_count": 27,
   "id": "82fb3b22-9170-4089-8f58-2a4013afa5ba",
   "metadata": {},
   "outputs": [],
   "source": [
    "from textblob import TextBlob\n",
    "import matplotlib.pyplot as plt\n",
    "import seaborn as sns, numpy as np\n",
    "from pylab import *"
   ]
  },
  {
   "cell_type": "code",
   "execution_count": 28,
   "id": "c1ecab94-8206-4efb-8dda-9bc624b86b9b",
   "metadata": {},
   "outputs": [],
   "source": [
    "def get_pol(review):\n",
    "    list1 = [TextBlob(review).sentiment.polarity]\n",
    "    return list1"
   ]
  },
  {
   "cell_type": "code",
   "execution_count": 29,
   "id": "c2a289af-2ff0-4ccf-93cd-c52a86d73007",
   "metadata": {},
   "outputs": [],
   "source": [
    "def get_sub(review):\n",
    "    list1 = [TextBlob(review).sentiment.subjectivity]\n",
    "    return list1"
   ]
  },
  {
   "cell_type": "code",
   "execution_count": 30,
   "id": "b6dd9623-0d35-4106-a942-a7fe23d1a1c7",
   "metadata": {},
   "outputs": [],
   "source": [
    "sample_sentiment['Polarity'] = sample_sentiment['LEMMA_TEXT'].apply(get_pol)"
   ]
  },
  {
   "cell_type": "code",
   "execution_count": 31,
   "id": "d5aa942e-fd57-438d-a9e1-853d5e77173f",
   "metadata": {},
   "outputs": [],
   "source": [
    "sample_sentiment['Subjectivity'] = sample_sentiment['LEMMA_TEXT'].apply(get_sub)"
   ]
  },
  {
   "cell_type": "code",
   "execution_count": 27,
   "id": "22df2fc8-8186-4549-8357-f86784afb201",
   "metadata": {},
   "outputs": [
    {
     "data": {
      "text/html": [
       "<div>\n",
       "<style scoped>\n",
       "    .dataframe tbody tr th:only-of-type {\n",
       "        vertical-align: middle;\n",
       "    }\n",
       "\n",
       "    .dataframe tbody tr th {\n",
       "        vertical-align: top;\n",
       "    }\n",
       "\n",
       "    .dataframe thead th {\n",
       "        text-align: right;\n",
       "    }\n",
       "</style>\n",
       "<table border=\"1\" class=\"dataframe\">\n",
       "  <thead>\n",
       "    <tr style=\"text-align: right;\">\n",
       "      <th></th>\n",
       "      <th>TEXT</th>\n",
       "      <th>TEXT_preprocess</th>\n",
       "      <th>LEMMA_TEXT</th>\n",
       "      <th>Polarity</th>\n",
       "      <th>Subjectivity</th>\n",
       "    </tr>\n",
       "  </thead>\n",
       "  <tbody>\n",
       "    <tr>\n",
       "      <th>1339940</th>\n",
       "      <td>Resp Care\\n\\nPt remains intubated and on SIMV/...</td>\n",
       "      <td>[resp, care, remains, intubated, simv, psv, de...</td>\n",
       "      <td>resp care remains intubated simv psv decreased...</td>\n",
       "      <td>[0.025]</td>\n",
       "      <td>[0.6458333333333334]</td>\n",
       "    </tr>\n",
       "    <tr>\n",
       "      <th>934705</th>\n",
       "      <td>[**2131-12-23**] 4:38 PM\\n CHEST (PORTABLE AP)...</td>\n",
       "      <td>[chest, portable, clip, clip, number, radiolog...</td>\n",
       "      <td>chest portable clip clip number radiology reas...</td>\n",
       "      <td>[-0.04468864468864469]</td>\n",
       "      <td>[0.28095238095238095]</td>\n",
       "    </tr>\n",
       "    <tr>\n",
       "      <th>1644386</th>\n",
       "      <td>Please see CareVue for details.\\n\\nNeuro:  Sta...</td>\n",
       "      <td>[please, see, carevue, detail, neuro, status, ...</td>\n",
       "      <td>please see carevue detail neuro status unchang...</td>\n",
       "      <td>[-0.008333333333333333]</td>\n",
       "      <td>[0.324484126984127]</td>\n",
       "    </tr>\n",
       "    <tr>\n",
       "      <th>1104915</th>\n",
       "      <td>[**2181-1-17**] 2:12 PM\\n CHEST PORT. LINE PLA...</td>\n",
       "      <td>[chest, port, line, placement, clip, clip, num...</td>\n",
       "      <td>chest port line placement clip clip number rad...</td>\n",
       "      <td>[0.09999999999999999]</td>\n",
       "      <td>[0.3263888888888889]</td>\n",
       "    </tr>\n",
       "    <tr>\n",
       "      <th>1002383</th>\n",
       "      <td>[**2118-3-23**] 6:13 PM\\n CHEST PORT. LINE PLA...</td>\n",
       "      <td>[chest, port, line, placement, clip, clip, num...</td>\n",
       "      <td>chest port line placement clip clip number rad...</td>\n",
       "      <td>[0.025505050505050503]</td>\n",
       "      <td>[0.26464646464646463]</td>\n",
       "    </tr>\n",
       "  </tbody>\n",
       "</table>\n",
       "</div>"
      ],
      "text/plain": [
       "                                                      TEXT  \\\n",
       "1339940  Resp Care\\n\\nPt remains intubated and on SIMV/...   \n",
       "934705   [**2131-12-23**] 4:38 PM\\n CHEST (PORTABLE AP)...   \n",
       "1644386  Please see CareVue for details.\\n\\nNeuro:  Sta...   \n",
       "1104915  [**2181-1-17**] 2:12 PM\\n CHEST PORT. LINE PLA...   \n",
       "1002383  [**2118-3-23**] 6:13 PM\\n CHEST PORT. LINE PLA...   \n",
       "\n",
       "                                           TEXT_preprocess  \\\n",
       "1339940  [resp, care, remains, intubated, simv, psv, de...   \n",
       "934705   [chest, portable, clip, clip, number, radiolog...   \n",
       "1644386  [please, see, carevue, detail, neuro, status, ...   \n",
       "1104915  [chest, port, line, placement, clip, clip, num...   \n",
       "1002383  [chest, port, line, placement, clip, clip, num...   \n",
       "\n",
       "                                                LEMMA_TEXT  \\\n",
       "1339940  resp care remains intubated simv psv decreased...   \n",
       "934705   chest portable clip clip number radiology reas...   \n",
       "1644386  please see carevue detail neuro status unchang...   \n",
       "1104915  chest port line placement clip clip number rad...   \n",
       "1002383  chest port line placement clip clip number rad...   \n",
       "\n",
       "                        Polarity           Subjectivity  \n",
       "1339940                  [0.025]   [0.6458333333333334]  \n",
       "934705    [-0.04468864468864469]  [0.28095238095238095]  \n",
       "1644386  [-0.008333333333333333]    [0.324484126984127]  \n",
       "1104915    [0.09999999999999999]   [0.3263888888888889]  \n",
       "1002383   [0.025505050505050503]  [0.26464646464646463]  "
      ]
     },
     "execution_count": 27,
     "metadata": {},
     "output_type": "execute_result"
    }
   ],
   "source": [
    "sample_sentiment.head()"
   ]
  },
  {
   "cell_type": "code",
   "execution_count": 28,
   "id": "386eb505-1f0b-492c-bf4f-fba06b274279",
   "metadata": {},
   "outputs": [],
   "source": [
    "sample_sentiment2 = sample_sentiment.copy()"
   ]
  },
  {
   "cell_type": "code",
   "execution_count": 29,
   "id": "80de7156-c815-4530-9b6b-51a2494dba38",
   "metadata": {},
   "outputs": [],
   "source": [
    "import numpy as np\n",
    "\n",
    "sample_sentiment2['row_num'] = np.arange(len(sample_sentiment2))"
   ]
  },
  {
   "cell_type": "code",
   "execution_count": 30,
   "id": "a6f49a51-eba8-419f-8ce4-79ac6bd7b9e0",
   "metadata": {},
   "outputs": [
    {
     "data": {
      "text/plain": [
       "20832"
      ]
     },
     "execution_count": 30,
     "metadata": {},
     "output_type": "execute_result"
    }
   ],
   "source": [
    "len(sample_sentiment2)"
   ]
  },
  {
   "cell_type": "code",
   "execution_count": 31,
   "id": "f4fcca92-e7ca-4aa5-a5d9-46772f8729b0",
   "metadata": {},
   "outputs": [],
   "source": [
    "sample_sentiment2 = sample_sentiment2.set_index('row_num')"
   ]
  },
  {
   "cell_type": "code",
   "execution_count": 36,
   "id": "187d52be-976f-47d2-9a65-635b814f37dd",
   "metadata": {},
   "outputs": [
    {
     "data": {
      "text/html": [
       "<div>\n",
       "<style scoped>\n",
       "    .dataframe tbody tr th:only-of-type {\n",
       "        vertical-align: middle;\n",
       "    }\n",
       "\n",
       "    .dataframe tbody tr th {\n",
       "        vertical-align: top;\n",
       "    }\n",
       "\n",
       "    .dataframe thead th {\n",
       "        text-align: right;\n",
       "    }\n",
       "</style>\n",
       "<table border=\"1\" class=\"dataframe\">\n",
       "  <thead>\n",
       "    <tr style=\"text-align: right;\">\n",
       "      <th></th>\n",
       "      <th>TEXT</th>\n",
       "      <th>TEXT_preprocess</th>\n",
       "      <th>LEMMA_TEXT</th>\n",
       "      <th>Polarity</th>\n",
       "      <th>Subjectivity</th>\n",
       "    </tr>\n",
       "    <tr>\n",
       "      <th>row_num</th>\n",
       "      <th></th>\n",
       "      <th></th>\n",
       "      <th></th>\n",
       "      <th></th>\n",
       "      <th></th>\n",
       "    </tr>\n",
       "  </thead>\n",
       "  <tbody>\n",
       "    <tr>\n",
       "      <th>0</th>\n",
       "      <td>Resp Care\\n\\nPt remains intubated and on SIMV/...</td>\n",
       "      <td>[resp, care, remains, intubated, simv, psv, de...</td>\n",
       "      <td>resp care remains intubated simv psv decreased...</td>\n",
       "      <td>[0.025]</td>\n",
       "      <td>[0.6458333333333334]</td>\n",
       "    </tr>\n",
       "    <tr>\n",
       "      <th>1</th>\n",
       "      <td>[**2131-12-23**] 4:38 PM\\n CHEST (PORTABLE AP)...</td>\n",
       "      <td>[chest, portable, clip, clip, number, radiolog...</td>\n",
       "      <td>chest portable clip clip number radiology reas...</td>\n",
       "      <td>[-0.04468864468864469]</td>\n",
       "      <td>[0.28095238095238095]</td>\n",
       "    </tr>\n",
       "    <tr>\n",
       "      <th>2</th>\n",
       "      <td>Please see CareVue for details.\\n\\nNeuro:  Sta...</td>\n",
       "      <td>[please, see, carevue, detail, neuro, status, ...</td>\n",
       "      <td>please see carevue detail neuro status unchang...</td>\n",
       "      <td>[-0.008333333333333333]</td>\n",
       "      <td>[0.324484126984127]</td>\n",
       "    </tr>\n",
       "    <tr>\n",
       "      <th>3</th>\n",
       "      <td>[**2181-1-17**] 2:12 PM\\n CHEST PORT. LINE PLA...</td>\n",
       "      <td>[chest, port, line, placement, clip, clip, num...</td>\n",
       "      <td>chest port line placement clip clip number rad...</td>\n",
       "      <td>[0.09999999999999999]</td>\n",
       "      <td>[0.3263888888888889]</td>\n",
       "    </tr>\n",
       "    <tr>\n",
       "      <th>4</th>\n",
       "      <td>[**2118-3-23**] 6:13 PM\\n CHEST PORT. LINE PLA...</td>\n",
       "      <td>[chest, port, line, placement, clip, clip, num...</td>\n",
       "      <td>chest port line placement clip clip number rad...</td>\n",
       "      <td>[0.025505050505050503]</td>\n",
       "      <td>[0.26464646464646463]</td>\n",
       "    </tr>\n",
       "  </tbody>\n",
       "</table>\n",
       "</div>"
      ],
      "text/plain": [
       "                                                      TEXT  \\\n",
       "row_num                                                      \n",
       "0        Resp Care\\n\\nPt remains intubated and on SIMV/...   \n",
       "1        [**2131-12-23**] 4:38 PM\\n CHEST (PORTABLE AP)...   \n",
       "2        Please see CareVue for details.\\n\\nNeuro:  Sta...   \n",
       "3        [**2181-1-17**] 2:12 PM\\n CHEST PORT. LINE PLA...   \n",
       "4        [**2118-3-23**] 6:13 PM\\n CHEST PORT. LINE PLA...   \n",
       "\n",
       "                                           TEXT_preprocess  \\\n",
       "row_num                                                      \n",
       "0        [resp, care, remains, intubated, simv, psv, de...   \n",
       "1        [chest, portable, clip, clip, number, radiolog...   \n",
       "2        [please, see, carevue, detail, neuro, status, ...   \n",
       "3        [chest, port, line, placement, clip, clip, num...   \n",
       "4        [chest, port, line, placement, clip, clip, num...   \n",
       "\n",
       "                                                LEMMA_TEXT  \\\n",
       "row_num                                                      \n",
       "0        resp care remains intubated simv psv decreased...   \n",
       "1        chest portable clip clip number radiology reas...   \n",
       "2        please see carevue detail neuro status unchang...   \n",
       "3        chest port line placement clip clip number rad...   \n",
       "4        chest port line placement clip clip number rad...   \n",
       "\n",
       "                        Polarity           Subjectivity  \n",
       "row_num                                                  \n",
       "0                        [0.025]   [0.6458333333333334]  \n",
       "1         [-0.04468864468864469]  [0.28095238095238095]  \n",
       "2        [-0.008333333333333333]    [0.324484126984127]  \n",
       "3          [0.09999999999999999]   [0.3263888888888889]  \n",
       "4         [0.025505050505050503]  [0.26464646464646463]  "
      ]
     },
     "execution_count": 36,
     "metadata": {},
     "output_type": "execute_result"
    }
   ],
   "source": [
    "sample_sentiment2.head()"
   ]
  },
  {
   "cell_type": "code",
   "execution_count": 51,
   "id": "600889d7-c7cd-4936-b1a8-7b9e933ba86a",
   "metadata": {},
   "outputs": [],
   "source": [
    "polarity = []\n",
    "subjectivity = []\n",
    "\n",
    "for i in range(len(sample_sentiment2)):\n",
    "    polarity.append(sample_sentiment2.Polarity[i])\n",
    "    subjectivity.append(sample_sentiment2.Subjectivity[i])\n",
    "\n",
    "\n",
    "    \n",
    "    "
   ]
  },
  {
   "cell_type": "code",
   "execution_count": 56,
   "id": "47ff5a21-b4ff-48a2-a1ff-595eae6d9c5a",
   "metadata": {},
   "outputs": [
    {
     "data": {
      "image/png": "[encoded data removed]",
      "text/plain": [
       "<Figure size 720x360 with 2 Axes>"
      ]
     },
     "metadata": {
      "needs_background": "light"
     },
     "output_type": "display_data"
    },
    {
     "name": "stdout",
     "output_type": "stream",
     "text": [
      "The average for polarity is -0.05532407407407409. The average for subjectivity is 0.41620370370370363.\n"
     ]
    }
   ],
   "source": [
    "fig,axes=plt.subplots(1,2, figsize=(10,5))\n",
    "#plt.xlabel(Average(polarity[i]))\n",
    "sns.distplot(polarity, ax=axes[0]).set(title = 'Positivity/negativity of Sample')\n",
    "sns.distplot(subjectivity,ax=axes[1]).set(title = 'Subjectivity/opinion of Sample')\n",
    "plt.show()\n",
    "print('The average for polarity is ' + \"% s\" % Average(polarity[i]) + '. The average for subjectivity is ' + \"% s\" % Average(subjectivity[i]) + '.')\n",
    "    "
   ]
  },
  {
   "cell_type": "code",
   "execution_count": null,
   "id": "24433370-cd31-4ce5-a800-34bf101eae50",
   "metadata": {},
   "outputs": [],
   "source": []
  },
  {
   "cell_type": "code",
   "execution_count": null,
   "id": "a5d2a4e5-311d-4b21-ac40-27a7b1ffea5f",
   "metadata": {},
   "outputs": [],
   "source": []
  },
  {
   "cell_type": "code",
   "execution_count": null,
   "id": "8815ddb9-8fc1-4ea1-a8b5-b2af8890c4a6",
   "metadata": {},
   "outputs": [],
   "source": []
  },
  {
   "cell_type": "code",
   "execution_count": null,
   "id": "dd7364b1-a1dd-4428-a048-4146cf79e7e0",
   "metadata": {},
   "outputs": [],
   "source": []
  },
  {
   "cell_type": "code",
   "execution_count": 33,
   "id": "e319cdff-f399-4a6e-b9e1-8eb6afd6ffc7",
   "metadata": {},
   "outputs": [],
   "source": [
    "sample.to_csv(r'df_project2.csv', header = None, index = None, sep = ' ')"
   ]
  },
  {
   "cell_type": "code",
   "execution_count": null,
   "id": "a21e2466-65f1-4f88-bd4c-0b8b77460f5d",
   "metadata": {},
   "outputs": [],
   "source": []
  },
  {
   "cell_type": "code",
   "execution_count": null,
   "id": "2c5e80b6-1883-46ce-b9c4-a77a754313b2",
   "metadata": {},
   "outputs": [],
   "source": []
  },
  {
   "cell_type": "code",
   "execution_count": null,
   "id": "ece78f8e-5e57-43e0-b45e-2e82a2aa1313",
   "metadata": {},
   "outputs": [],
   "source": []
  }
 ],
 "metadata": {
  "kernelspec": {
   "display_name": "Python 3 (ipykernel)",
   "language": "python",
   "name": "python3"
  },
  "language_info": {
   "codemirror_mode": {
    "name": "ipython",
    "version": 3
   },
   "file_extension": ".py",
   "mimetype": "text/x-python",
   "name": "python",
   "nbconvert_exporter": "python",
   "pygments_lexer": "ipython3",
   "version": "3.8.10"
  }
 },
 "nbformat": 4,
 "nbformat_minor": 5
}
